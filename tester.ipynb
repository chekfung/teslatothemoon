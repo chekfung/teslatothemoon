{
 "cells": [
  {
   "cell_type": "code",
   "execution_count": 6,
   "metadata": {},
   "outputs": [
    {
     "name": "stdout",
     "output_type": "stream",
     "text": [
      "[*********************100%***********************]  1 of 1 completed\n",
      "[*********************100%***********************]  1 of 1 completed\n"
     ]
    }
   ],
   "source": [
    "import tweepy\n",
    "import yfinance as yf\n",
    "import pandas as pd\n",
    "from pandas import Series\n",
    "import sqlite3\n",
    "\n",
    "# Get Tesla stock data as a DataFrame from start date to end date\n",
    "# DataFrame index is the date, Columns include Open, High, Low, Close, Adj Close\n",
    "# and Volume\n",
    "data = yf.download(\"TSLA\", start=\"2020-02-01\", end=\"2020-02-29\", interval=\"15m\")\n",
    "data.index = Series.dt.strftime(data.index, '%Y-%m-%d')\n",
    "\n",
    "# Create connection to database\n",
    "conn = sqlite3.connect('stock_data.db')\n",
    "c = conn.cursor()\n",
    "\n",
    "# Dictionary that defines column names and their types\n",
    "data_types = {\n",
    "    \"date\":\"TEXT\", \n",
    "    \"open\":\"FLOAT\",\n",
    "    \"high\":\"FLOAT\",\n",
    "    \"low\":\"FLOAT\",\n",
    "    \"close\":\"FLOAT\",\n",
    "    \"adjClose\":\"FLOAT\", \n",
    "    \"volume\":\"INT\"\n",
    "}\n",
    "\n",
    "# Converts the DataFrame to a sql database, replacing it if it already exists\n",
    "data.to_sql('StockData', conn, if_exists='replace', index=True, \\\n",
    "    index_label=\"date\", dtype=data_types)\n",
    "\n",
    "# Writes the DataFrame to a csv file for the data sample deliverable\n",
    "data.to_csv(path_or_buf='one_month_stock_data.csv')\n",
    "\n",
    "rnn_data = yf.download(\"TSLA\", start=\"2019-10-01\", end=\"2020-01-31\", interval=\"1h\")\n",
    "rnn_data.index = Series.dt.strftime(rnn_data.index, '%Y-%m-%d')\n",
    "\n",
    "# Create connection to database\n",
    "conn = sqlite3.connect('rnn_data.db')\n",
    "c = conn.cursor()\n",
    "\n",
    "# Writes the RNN training data DataFrame to a sqlite3 database\n",
    "rnn_data.to_sql('RNNData', conn, if_exists='replace', index=True, index_label=\"date\", dtype=data_types)\n",
    "\n",
    "# Writes the RNN training data DataFrame to a csv file for the sample deliverable\n",
    "rnn_data.to_csv(path_or_buf='rnn_stock_data.csv')"
   ]
  },
  {
   "cell_type": "code",
   "execution_count": null,
   "metadata": {},
   "outputs": [],
   "source": []
  }
 ],
 "metadata": {
  "kernelspec": {
   "display_name": "Python 3",
   "language": "python",
   "name": "python3"
  },
  "language_info": {
   "codemirror_mode": {
    "name": "ipython",
    "version": 3
   },
   "file_extension": ".py",
   "mimetype": "text/x-python",
   "name": "python",
   "nbconvert_exporter": "python",
   "pygments_lexer": "ipython3",
   "version": "3.7.3"
  }
 },
 "nbformat": 4,
 "nbformat_minor": 2
}
