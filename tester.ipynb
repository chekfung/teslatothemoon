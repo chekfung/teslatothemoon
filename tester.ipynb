{
 "cells": [
  {
   "cell_type": "code",
   "execution_count": 17,
   "metadata": {},
   "outputs": [],
   "source": [
    "# we messed up so we're adding sentiment manually to a tweet subset\n",
    "from textblob import TextBlob\n",
    "import sqlite3\n",
    "import pandas as pd\n",
    "\n",
    "conn = sqlite3.connect('stock_data.db')\n",
    "\n",
    "data = pd.read_sql(\"SELECT id, text, quote_count, reply_count, retweet_count, favorite_count FROM TWEETS\", conn)\n",
    "pol_col = []\n",
    "sub_col = []\n",
    "\n",
    "for tweet_text in data[\"text\"]: \n",
    "    blob = TextBlob(tweet_text)\n",
    "    polarity, subjectivity = blob.sentiment\n",
    "    pol_col.append(polarity)\n",
    "    sub_col.append(subjectivity)\n",
    "\n",
    "data[\"polarity\"] = pol_col\n",
    "data[\"subjectivity\"] = sub_col\n",
    "\n",
    "data.to_sql('Tweets', conn, if_exists='replace', index=False)\n",
    "\n",
    "conn.close()"
   ]
  },
  {
   "cell_type": "code",
   "execution_count": null,
   "metadata": {},
   "outputs": [],
   "source": []
  }
 ],
 "metadata": {
  "kernelspec": {
   "display_name": "Python 3",
   "language": "python",
   "name": "python3"
  },
  "language_info": {
   "codemirror_mode": {
    "name": "ipython",
    "version": 3
   },
   "file_extension": ".py",
   "mimetype": "text/x-python",
   "name": "python",
   "nbconvert_exporter": "python",
   "pygments_lexer": "ipython3",
   "version": "3.7.3"
  }
 },
 "nbformat": 4,
 "nbformat_minor": 2
}
